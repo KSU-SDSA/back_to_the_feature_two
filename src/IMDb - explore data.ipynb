{
 "cells": [
  {
   "cell_type": "code",
   "execution_count": 1,
   "id": "369a2876-af0e-4bca-9a94-1ca54a025521",
   "metadata": {},
   "outputs": [
    {
     "name": "stdout",
     "output_type": "stream",
     "text": [
      "['._title.crew.tsv', '._title.episode.tsv', '._title.ratings.tsv', 'imdb_titles_years.csv', 'imdb_titles_years_clean.csv', 'title.crew.tsv', 'title.episode.tsv', 'title.ratings.tsv']\n"
     ]
    }
   ],
   "source": [
    "import pandas as pd\n",
    "import os\n",
    "\n",
    "def get_csv_tsv_filenames():\n",
    "    cwd = os.getcwd()\n",
    "    return [f for f in os.listdir(cwd) if f.endswith(('.csv', '.tsv'))]\n",
    "\n",
    "files = get_csv_tsv_filenames()\n",
    "print(files)\n"
   ]
  },
  {
   "cell_type": "code",
   "execution_count": 15,
   "id": "4194319c-20a4-4e0e-9d3c-c046fbc74d27",
   "metadata": {},
   "outputs": [
    {
     "name": "stdout",
     "output_type": "stream",
     "text": [
      "  tconst\\taverageRating\\tnumVotes\n",
      "0            tt0000001\\t5.7\\t2058\n",
      "1             tt0000002\\t5.7\\t276\n",
      "2            tt0000003\\t6.5\\t2015\n",
      "3             tt0000004\\t5.4\\t179\n",
      "4            tt0000005\\t6.2\\t2784\n"
     ]
    }
   ],
   "source": [
    "try:\n",
    "    data = pd.read_csv(files[7])\n",
    "    print(data.head())\n",
    "except:\n",
    "    print(\"Not csv\")"
   ]
  },
  {
   "cell_type": "code",
   "execution_count": null,
   "id": "895e3a19-bfb1-47f0-aed5-96211a03699e",
   "metadata": {},
   "outputs": [],
   "source": []
  }
 ],
 "metadata": {
  "kernelspec": {
   "display_name": "Python 3 (ipykernel)",
   "language": "python",
   "name": "python3"
  },
  "language_info": {
   "codemirror_mode": {
    "name": "ipython",
    "version": 3
   },
   "file_extension": ".py",
   "mimetype": "text/x-python",
   "name": "python",
   "nbconvert_exporter": "python",
   "pygments_lexer": "ipython3",
   "version": "3.12.7"
  }
 },
 "nbformat": 4,
 "nbformat_minor": 5
}
