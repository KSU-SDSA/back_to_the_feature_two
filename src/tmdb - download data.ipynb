{
 "cells": [
  {
   "cell_type": "markdown",
   "id": "340abb36-45c3-4836-ad56-0d797fb7b9ab",
   "metadata": {},
   "source": [
    "#  📡 Download TMDB Data Notebook Overview  \n",
    "This notebook pulls TMDB data for movies in the IMDb dataset, using IMDb `tconst` as the lookup key.  \n",
    "\n",
    "## 📂 Steps in This Notebook  \n",
    "\n",
    "1️⃣ **🔒 Hidden Code Blocks** → **Old, possibly useful code** from the earlier screenplay-based approach. Needs investigation before deletion.  \n",
    "\n",
    "2️⃣ **Import Libraries & Setup** → Loads dependencies, sets **API key & base URL** for TMDB queries.  \n",
    "\n",
    "3️⃣ **Retrieve TMDB IDs from IMDb `tconst`** →  \n",
    "   - Queries TMDB using IMDb IDs to get **TMDB IDs**.  \n",
    "   - ⚠️ **Already completed, should not be run again** (avoids 11K API calls).  \n",
    "\n",
    "4️⃣ **Fetch TMDB Movie Data** →  \n",
    "   - Uses **TMDB IDs** to pull movie details.  \n",
    "   - Retrieves **release dates, credits, keywords, and other metadata**.  \n",
    "   - Saves each movie’s data as a **JSON file** using its **IMDb `tconst` as the filename**.  \n",
    "\n",
    "5️⃣ **(Old Code) Fuzzy Matching & Title Fixing** →  \n",
    "   - Leftover code for **matching screenplay titles** to IMDb titles.  \n",
    "   - ⚠️ **No longer needed, planned for deletion.**  \n",
    "\n",
    "## 🛠️ Next Steps  \n",
    "✔ **Review & remove outdated code for clean public GitHub repo.**  \n",
    "✔ **Ensure final dataset structure is correct.**  \n",
    "✔ **Move forward with merging TMDB JSON files into the IMDb dataset.**  \n"
   ]
  },
  {
   "cell_type": "code",
   "execution_count": null,
   "id": "3701ed7c-7608-4c9c-833e-aaf1eeb642a0",
   "metadata": {
    "jupyter": {
     "source_hidden": true
    }
   },
   "outputs": [],
   "source": [
    "import requests\n",
    "import json\n",
    "import time\n",
    "\n",
    "\n",
    "\n",
    "# Define the base URL for the TMDB API\n",
    "BASE_URL = 'https://api.themoviedb.org/3'\n",
    "\n",
    "def search_movie(title):\n",
    "    \"\"\"Search for a movie by title and return the movie ID.\"\"\"\n",
    "    search_url = f\"{BASE_URL}/search/movie\"\n",
    "    params = {\n",
    "        'api_key': API_KEY,\n",
    "        'query': title\n",
    "    }\n",
    "    response = requests.get(search_url, params=params)\n",
    "    data = response.json()\n",
    "    results = data.get('results', [])\n",
    "    if results:\n",
    "        return results[0]['id']\n",
    "    return None\n",
    "\n",
    "def get_movie_details(movie_id):\n",
    "    \"\"\"Get full details of a movie by its ID.\"\"\"\n",
    "    details_url = f\"{BASE_URL}/movie/{movie_id}\"\n",
    "    params = {\n",
    "        'api_key': API_KEY\n",
    "    }\n",
    "    response = requests.get(details_url, params=params)\n",
    "    return response.json()\n",
    "\n",
    "def download_movie_data(titles, output_folder):\n",
    "    \"\"\"Download movie data for a list of titles and save to JSON files.\"\"\"\n",
    "    for title in titles:\n",
    "        movie_id = search_movie(title)\n",
    "        if movie_id:\n",
    "            details = get_movie_details(movie_id)\n",
    "            file_path = f\"{output_folder}/{title.replace(' ', '_')}.json\"\n",
    "            with open(file_path, 'w', encoding='utf-8') as f:\n",
    "                json.dump(details, f, ensure_ascii=False, indent=4)\n",
    "            print(f\"Downloaded data for '{title}' and saved to '{file_path}'\")\n",
    "        else:\n",
    "            print(f\"No data found for '{title}'\")\n",
    "        time.sleep(1)  # Respect the rate limit by adding a delay\n",
    "\n",
    "# Example usage\n",
    "titles = [\n",
    "    \"Inception\",\n",
    "    \"The Dark Knight\",\n",
    "    \"Interstellar\"\n",
    "]\n",
    "output_folder = 'movie_data'\n",
    "\n",
    "# Create the output folder if it doesn't exist\n",
    "import os\n",
    "if not os.path.exists(output_folder):\n",
    "    os.makedirs(output_folder)\n",
    "\n",
    "download_movie_data(titles, output_folder)\n"
   ]
  },
  {
   "cell_type": "code",
   "execution_count": null,
   "id": "ffbafd6a-55b7-46f2-9cc3-4b90ad6b4f41",
   "metadata": {
    "jupyter": {
     "source_hidden": true
    }
   },
   "outputs": [],
   "source": [
    "import requests\n",
    "import json\n",
    "import time\n",
    "\n",
    "# Set your TMDB API key here\n",
    "API_KEY = 'd490af79f7ede7821ba89165ed285350'\n",
    "\n",
    "# Define the base URL for the TMDB API\n",
    "BASE_URL = 'https://api.themoviedb.org/3'\n",
    "\n",
    "def search_movie(title):\n",
    "    \"\"\"Search for a movie by title and return the movie ID.\"\"\"\n",
    "    search_url = f\"{BASE_URL}/search/movie\"\n",
    "    params = {\n",
    "        'api_key': API_KEY,\n",
    "        'query': title\n",
    "    }\n",
    "    response = requests.get(search_url, params=params)\n",
    "    data = response.json()\n",
    "    results = data.get('results', [])\n",
    "    if results:\n",
    "        return results[0]['id']\n",
    "    return None\n",
    "\n",
    "def get_movie_details(movie_id):\n",
    "    \"\"\"Get full details of a movie by its ID.\"\"\"\n",
    "    details_url = f\"{BASE_URL}/movie/{movie_id}\"\n",
    "    params = {\n",
    "        'api_key': API_KEY,\n",
    "        'append_to_response': 'release_dates,credits'\n",
    "    }\n",
    "    response = requests.get(details_url, params=params)\n",
    "    return response.json()\n",
    "\n",
    "def extract_box_office_by_country(details):\n",
    "    \"\"\"Extract box office numbers by country from movie details.\"\"\"\n",
    "    box_office = {}\n",
    "    if 'release_dates' in details and 'results' in details['release_dates']:\n",
    "        for country_data in details['release_dates']['results']:\n",
    "            country = country_data.get('iso_3166_1')\n",
    "            for release in country_data.get('release_dates', []):\n",
    "                if 'box_office' in release:\n",
    "                    box_office[country] = release['box_office']\n",
    "    return box_office\n",
    "\n",
    "def extract_actors_and_characters(details):\n",
    "    \"\"\"Extract list of actors and their characters from movie credits.\"\"\"\n",
    "    actors_characters = []\n",
    "    if 'credits' in details and 'cast' in details['credits']:\n",
    "        for cast_member in details['credits']['cast']:\n",
    "            actors_characters.append({\n",
    "                'actor': cast_member.get('name'),\n",
    "                'character': cast_member.get('character')\n",
    "            })\n",
    "    return actors_characters\n",
    "\n",
    "def download_movie_data(titles, output_folder):\n",
    "    \"\"\"Download movie data for a list of titles and save to JSON files.\"\"\"\n",
    "    for title in titles:\n",
    "        movie_id = search_movie(title)\n",
    "        if movie_id:\n",
    "            details = get_movie_details(movie_id)\n",
    "            box_office = extract_box_office_by_country(details)\n",
    "            actors_characters = extract_actors_and_characters(details)\n",
    "\n",
    "            # Combine details with extracted information\n",
    "            details['box_office_by_country'] = box_office\n",
    "            details['actors_characters'] = actors_characters\n",
    "\n",
    "            file_path = f\"{output_folder}/{title.replace(' ', '_')}.json\"\n",
    "            with open(file_path, 'w', encoding='utf-8') as f:\n",
    "                json.dump(details, f, ensure_ascii=False, indent=4)\n",
    "            print(f\"Downloaded data for '{title}' and saved to '{file_path}'\")\n",
    "        else:\n",
    "            print(f\"No data found for '{title}'\")\n",
    "        time.sleep(1)  # Respect the rate limit by adding a delay\n",
    "\n",
    "# Example usage\n",
    "titles = [\n",
    "    \"Inception\",\n",
    "    \"The Dark Knight\",\n",
    "    \"Interstellar\"\n",
    "]\n",
    "output_folder = 'Data/movie_data'\n",
    "\n",
    "# Create the output folder if it doesn't exist\n",
    "import os\n",
    "if not os.path.exists(output_folder):\n",
    "    os.makedirs(output_folder)\n",
    "\n",
    "download_movie_data(titles, output_folder)\n"
   ]
  },
  {
   "cell_type": "markdown",
   "id": "a285d40a-937d-4203-a747-f2939560800f",
   "metadata": {},
   "source": [
    "### IMPORT LIBS"
   ]
  },
  {
   "cell_type": "code",
   "execution_count": 1,
   "id": "83cb387a-ac1c-42d6-8270-1f847774c133",
   "metadata": {},
   "outputs": [],
   "source": [
    "import requests\n",
    "import os\n",
    "import pandas as pd\n",
    "import string\n",
    "import json\n",
    "import time\n",
    "\n",
    "# TMDB API details\n",
    "BASE_URL = \"https://api.themoviedb.org/3\"\n",
    "API_KEY = 'd490af79f7ede7821ba89165ed285350'"
   ]
  },
  {
   "cell_type": "markdown",
   "id": "28a3f51b-011b-4e11-940f-4d896c8d5147",
   "metadata": {},
   "source": [
    "### Get IDs of all scripts (don't run again):"
   ]
  },
  {
   "cell_type": "code",
   "execution_count": 5,
   "id": "8aa64ab1-f6ba-47ed-ad5b-70aa435a0e67",
   "metadata": {
    "scrolled": true
   },
   "outputs": [
    {
     "name": "stdout",
     "output_type": "stream",
     "text": [
      "0\n",
      "Error fetching tt26900526\n",
      "1000\n",
      "Error fetching tt6328046\n",
      "Error fetching tt27850479\n",
      "Error fetching tt23058594\n",
      "2000\n",
      "3000\n",
      "Error fetching tt28504311\n",
      "Error fetching tt11959018\n",
      "4000\n",
      "5000\n",
      "Error fetching tt15354498\n",
      "6000\n",
      "Error fetching tt30836377\n",
      "Error fetching tt32491118\n",
      "7000\n",
      "Error fetching tt21932820\n",
      "Error fetching tt32389619\n",
      "8000\n",
      "9000\n",
      "10000\n",
      "11000\n"
     ]
    }
   ],
   "source": [
    "import pandas as pd\n",
    "\n",
    "def get_movie_id(IMDB_ID=\"tt1375666\"):\n",
    "    \"\"\"Search TMDB for a movie by IMDb ID and return its TMDB ID.\"\"\"\n",
    "    url = f\"{BASE_URL}/find/{IMDB_ID}\"\n",
    "    params = {\n",
    "        \"api_key\": API_KEY,\n",
    "        \"external_source\": \"imdb_id\"\n",
    "    }\n",
    "    response = requests.get(url, params=params, timeout=10)\n",
    "    data = response.json()\n",
    "\n",
    "    if data.get(\"movie_results\"):  # Fix: Correct key for TMDB API response\n",
    "        return data[\"movie_results\"][0][\"id\"]  # Return first search result ID\n",
    "    \n",
    "    print(f\"Error fetching {IMDB_ID}\")  # Fix: Corrected error message\n",
    "    return None  # No match found\n",
    "\n",
    "def update_lists(df, prior_fetches, file_path=\"data/titles_with_subgenres.csv\"):\n",
    "    \"\"\"Read movie IMDb IDs (tconst) from CSV and fetch their TMDB IDs.\"\"\"\n",
    "    \n",
    "    tconsts = df[\"tconst\"].tolist()  # Fix: Ensure correct column name\n",
    "    \n",
    "    ids = []\n",
    "    i = 0\n",
    "    for t in tconsts:\n",
    "        if t in prior_fetches:\n",
    "            pass\n",
    "        if i % 1000 == 0:\n",
    "            print(i)\n",
    "            \n",
    "        try:\n",
    "            movie_id = get_movie_id(t)\n",
    "        except:\n",
    "            print(\"Timeout occured\")\n",
    "            return list(zip(tconsts[:len(ids)], ids))\n",
    "        ids.append(movie_id)\n",
    "        \n",
    "        time.sleep(0.05)  # Avoid hitting TMDB rate limits\n",
    "        i += 1\n",
    "\n",
    "    return list(zip(tconsts, ids))\n",
    "df = pd.read_csv(file_path)\n",
    "titles_ids = update_lists(df=df, None)"
   ]
  },
  {
   "cell_type": "code",
   "execution_count": 6,
   "id": "754725de-850d-48da-a90c-50ff43922f27",
   "metadata": {},
   "outputs": [
    {
     "name": "stdout",
     "output_type": "stream",
     "text": [
      "Number of downloaded ids: 11083\n"
     ]
    }
   ],
   "source": [
    "print(f\"Number of downloaded ids: {len(titles_ids)}\")"
   ]
  },
  {
   "cell_type": "markdown",
   "id": "45fd8985-d980-4028-9361-6481be805a34",
   "metadata": {},
   "source": [
    "### FETCH DATA"
   ]
  },
  {
   "cell_type": "code",
   "execution_count": 9,
   "id": "68160b7f-0109-429f-a57e-75b15553c6b5",
   "metadata": {
    "scrolled": true
   },
   "outputs": [
    {
     "name": "stdout",
     "output_type": "stream",
     "text": [
      "0\n",
      "500\n",
      "No data found for 'tt26900526'\n",
      "1000\n",
      "No data found for 'tt6328046'\n",
      "No data found for 'tt27850479'\n",
      "No data found for 'tt23058594'\n",
      "1500\n",
      "2000\n",
      "2500\n",
      "3000\n",
      "No data found for 'tt28504311'\n",
      "No data found for 'tt11959018'\n",
      "3500\n",
      "4000\n",
      "4500\n",
      "5000\n",
      "5500\n",
      "No data found for 'tt15354498'\n",
      "6000\n",
      "No data found for 'tt30836377'\n",
      "No data found for 'tt32491118'\n",
      "6500\n",
      "7000\n",
      "7500\n",
      "No data found for 'tt21932820'\n",
      "No data found for 'tt32389619'\n",
      "8000\n",
      "8500\n",
      "9000\n",
      "9500\n",
      "10000\n",
      "10500\n",
      "11000\n"
     ]
    }
   ],
   "source": [
    "import requests\n",
    "import json\n",
    "import time\n",
    "import pandas as pd\n",
    "\n",
    "def get_movie_details(movie_id):\n",
    "    \"\"\"Get full details of a movie by its ID.\"\"\"\n",
    "    details_url = f\"{BASE_URL}/movie/{movie_id}\"\n",
    "    params = {\n",
    "        'api_key': API_KEY,\n",
    "        'append_to_response': 'release_dates,credits,keywords'\n",
    "    }\n",
    "    response = requests.get(details_url, params=params)\n",
    "    return response.json()\n",
    "\n",
    "def extract_actors_and_characters(details):\n",
    "    \"\"\"Extract list of actors and their characters from movie credits.\"\"\"\n",
    "    actors_characters = []\n",
    "    if 'credits' in details and 'cast' in details['credits']:\n",
    "        for cast_member in details['credits']['cast']:\n",
    "            actors_characters.append({\n",
    "                'actor': cast_member.get('name'),\n",
    "                'character': cast_member.get('character')\n",
    "            })\n",
    "    return actors_characters\n",
    "\n",
    "def download_movie_data(titles_ids, output_folder):\n",
    "    \"\"\"Download movie data for a list of titles and save to JSON files.\"\"\"\n",
    "    x=0\n",
    "    for t, i in titles_ids:\n",
    "        if x%500 == 0:\n",
    "            print(x)\n",
    "        x+=1\n",
    "\n",
    "        if os.path.exists(f\"{output_folder}/{t}.json\"):\n",
    "            continue\n",
    "            \n",
    "        if i:\n",
    "            details = get_movie_details(i)\n",
    "            actors_characters = extract_actors_and_characters(details)\n",
    "            details['actors_characters'] = actors_characters\n",
    "            file_path = f\"{output_folder}/{t.replace(' ', '_')}.json\"\n",
    "            with open(file_path, 'w', encoding='utf-8') as f:\n",
    "                json.dump(details, f, ensure_ascii=False, indent=4)\n",
    "            #print(f\"Downloaded data for '{t}' and saved to '{file_path}'\")\n",
    "        else:\n",
    "            print(f\"No data found for '{t}'\")\n",
    "        time.sleep(0.05)\n",
    "\n",
    "download_movie_data(titles_ids=titles_ids, output_folder=\"data/subgenre_titles_data\")"
   ]
  },
  {
   "cell_type": "markdown",
   "id": "d79d06f5-71ce-482f-85a5-c383c55fb085",
   "metadata": {},
   "source": [
    "Get a list of unmatched movies:"
   ]
  },
  {
   "cell_type": "code",
   "execution_count": 8,
   "id": "931a781e-b650-4f84-a863-f9220df88d66",
   "metadata": {},
   "outputs": [
    {
     "name": "stdout",
     "output_type": "stream",
     "text": [
      "There were 315 unmatched titles\n"
     ]
    }
   ],
   "source": [
    "file_list = os.listdir(\"Data/movie_data\")\n",
    "titles_json = [f.replace(\".json\", \"\").replace(\"_\", \" \").lower() for f in file_list]\n",
    "titles_screenplays = [s.lower() for s in screenplays]\n",
    "fails = []\n",
    "\n",
    "for t in titles_screenplays:\n",
    "    if t not in titles_json:\n",
    "        fails.append(t)\n",
    "\n",
    "print(f\"There were {len(fails)} unmatched titles\")"
   ]
  },
  {
   "cell_type": "markdown",
   "id": "3cd48694-6b28-4c7c-b9dc-4f87764c9adf",
   "metadata": {},
   "source": [
    "Fuzzy matches:"
   ]
  },
  {
   "cell_type": "code",
   "execution_count": 45,
   "id": "c8c2bfa8-02c7-4c54-8e65-e22f7c88201b",
   "metadata": {},
   "outputs": [
    {
     "name": "stdout",
     "output_type": "stream",
     "text": [
      "The list has 557983 titles\n"
     ]
    }
   ],
   "source": [
    "# Get titles and release years from IMDB data for titles since 1940\n",
    "#dat = pd.read_csv(\"Data/title.basics.tsv\", sep=\"\\t\")\n",
    "dat2 = dat.copy()\n",
    "\n",
    "# clean years\n",
    "dat2[\"startYear\"] = dat2[\"startYear\"].apply(convert_to_int_or_1900)\n",
    "\n",
    "# Function to check if a string represents an integer\n",
    "def convert_to_int_or_1900(x):\n",
    "    try:\n",
    "        int(x)\n",
    "        return x\n",
    "    except ValueError:\n",
    "        return '1900'\n",
    "\n",
    "# Function to process each element\n",
    "def process_string(s):\n",
    "    if isinstance(s, str):\n",
    "        return s.lower().strip().translate(translator)\n",
    "    else:\n",
    "        return str(s)\n",
    "\n",
    "# extract and clean titles\n",
    "translator = str.maketrans('', '', string.punctuation)\n",
    "titles = list(dat2[(dat2[\"titleType\"] == \"movie\") & (dat2[\"isAdult\"] == 0) & (dat2[\"startYear\"].astype(int) >= 1920)][\"primaryTitle\"])\n",
    "titles_clean = [process_string(s) for s in titles]\n",
    "\n",
    "# extract years\n",
    "years = list(dat2[(dat2[\"titleType\"] == \"movie\") & (dat2[\"isAdult\"] == 0)& (dat2[\"startYear\"].astype(int) >= 1920)][\"startYear\"])\n",
    "\n",
    "titles_years = list(zip(titles, years))\n",
    "print(f\"The list has {len(titles_years)} titles\")"
   ]
  },
  {
   "cell_type": "code",
   "execution_count": 56,
   "id": "68546c9a-2ded-4119-b509-f48db6c92243",
   "metadata": {},
   "outputs": [],
   "source": [
    "pd.DataFrame(titles_years, columns=[\"title\", \"year\"]).to_csv(\"Data/imdb_titles_years.csv\")"
   ]
  },
  {
   "cell_type": "code",
   "execution_count": 51,
   "id": "54e08554-557e-4974-bcd3-372641b25cc1",
   "metadata": {},
   "outputs": [
    {
     "name": "stderr",
     "output_type": "stream",
     "text": [
      "WARNING:root:Applied processor reduces input query to empty string, all comparisons will have score 0. [Query: '']\n"
     ]
    },
    {
     "name": "stdout",
     "output_type": "stream",
     "text": [
      "The fuzzy matches are complete\n"
     ]
    }
   ],
   "source": [
    "from fuzzywuzzy import fuzz, process\n",
    "\n",
    "BASE_URL = 'https://api.themoviedb.org/3'\n",
    "\n",
    "def search_movie(title):\n",
    "    \"\"\"Search for a movie by title and return the results.\"\"\"\n",
    "    search_url = f\"{BASE_URL}/search/movie\"\n",
    "    params = {\n",
    "        'api_key': API_KEY,\n",
    "        'query': title\n",
    "    }\n",
    "    response = requests.get(search_url, params=params)\n",
    "    return response.json()\n",
    "\n",
    "def find_best_match(title, candidates):\n",
    "    \"\"\"Find the best match for the given title from the list of candidates using fuzzy matching.\"\"\"\n",
    "    best_match = process.extractOne(title, candidates, scorer=fuzz.token_sort_ratio)\n",
    "    return best_match\n",
    "\n",
    "def match_titles_to_tmdb(titles, candidates, verbose=False):\n",
    "    matched_results = []\n",
    "    for title in titles:\n",
    "        best_match = find_best_match(title, candidates)\n",
    "        if best_match:\n",
    "            matched_results.append({\n",
    "                'original_title': title,\n",
    "                'best_match_title': best_match[0],\n",
    "                'similarity_score': best_match[1],\n",
    "                'tmdb_data': next((candidate for candidate in candidates if candidate == best_match[0]), None)\n",
    "            })\n",
    "            if verbose:\n",
    "                print(f\"Best match for '{title}': '{best_match[0]}' with a similarity score of {best_match[1]}\")\n",
    "        else:\n",
    "            print(f\"No match found for '{title}'\")\n",
    "    return matched_results\n",
    "\n",
    "# Example usage\n",
    "matched_results = match_titles_to_tmdb(titles=fails, candidates=titles)\n",
    "\"\"\"\n",
    "# Print matched results\n",
    "for result in matched_results:\n",
    "    print(f\"Original Title: {result['original_title']}\")\n",
    "    print(f\"Best Match Title: {result['best_match_title']}\")\n",
    "    print(f\"Similarity Score: {result['similarity_score']}\")\n",
    "    print(f\"TMDB Data: {result['tmdb_data']}\")\n",
    "    print(\"\\n\")\"\"\"\n",
    "\n",
    "print(\"The fuzzy matches are complete\")"
   ]
  },
  {
   "cell_type": "code",
   "execution_count": null,
   "id": "c9247d2b-d492-40b4-b63e-db6569c3229e",
   "metadata": {},
   "outputs": [],
   "source": []
  },
  {
   "cell_type": "markdown",
   "id": "cbc22ca5-4a9d-46d7-a995-5849360ba439",
   "metadata": {},
   "source": [
    "Manual review of fuzzy matches:"
   ]
  },
  {
   "cell_type": "code",
   "execution_count": 54,
   "id": "13e9a8e1-5702-4423-98be-d40784793af2",
   "metadata": {
    "scrolled": true
   },
   "outputs": [
    {
     "name": "stdout",
     "output_type": "stream",
     "text": [
      "\u001b[KScreenplay: hack slash, Matched: Hack/Slash, Score: 100   \r"
     ]
    },
    {
     "name": "stdin",
     "output_type": "stream",
     "text": [
      "\n",
      "Is this a correct match? (yes/no):  y\n"
     ]
    },
    {
     "name": "stdout",
     "output_type": "stream",
     "text": [
      "\u001b[KScreenplay: how to get away with murder 1x01 pilot 2014, Matched: How to Get Away with It, Score: 70   \r"
     ]
    },
    {
     "name": "stdin",
     "output_type": "stream",
     "text": [
      "\n",
      "Is this a correct match? (yes/no):  n\n"
     ]
    },
    {
     "name": "stdout",
     "output_type": "stream",
     "text": [
      "\u001b[KScreenplay: ground hog day, Matched: Groundhog Day, Score: 96   \r"
     ]
    },
    {
     "name": "stdin",
     "output_type": "stream",
     "text": [
      "\n",
      "Is this a correct match? (yes/no):  y\n"
     ]
    },
    {
     "name": "stdout",
     "output_type": "stream",
     "text": [
      "\u001b[KScreenplay: ceramic life, Matched: Eri Ife, Score: 74   \r"
     ]
    },
    {
     "name": "stdin",
     "output_type": "stream",
     "text": [
      "\n",
      "Is this a correct match? (yes/no):  n\n"
     ]
    },
    {
     "name": "stdout",
     "output_type": "stream",
     "text": [
      "\u001b[KScreenplay: bay watch, Matched: Baywatch, Score: 94   \r"
     ]
    },
    {
     "name": "stdin",
     "output_type": "stream",
     "text": [
      "\n",
      "Is this a correct match? (yes/no):  y\n"
     ]
    },
    {
     "name": "stdout",
     "output_type": "stream",
     "text": [
      "\u001b[KScreenplay: chronicle 2 martyr, Matched: Mutant Chronicles, Score: 74   \r"
     ]
    },
    {
     "name": "stdin",
     "output_type": "stream",
     "text": [
      "\n",
      "Is this a correct match? (yes/no):  n\n"
     ]
    },
    {
     "name": "stdout",
     "output_type": "stream",
     "text": [
      "\u001b[KScreenplay: the green effect, Matched: The Red Effect, Score: 87   \r"
     ]
    },
    {
     "name": "stdin",
     "output_type": "stream",
     "text": [
      "\n",
      "Is this a correct match? (yes/no):  n\n"
     ]
    },
    {
     "name": "stdout",
     "output_type": "stream",
     "text": [
      "\u001b[KScreenplay: hell incorporated, Matched: Gals, Incorporated, Score: 82   \r"
     ]
    },
    {
     "name": "stdin",
     "output_type": "stream",
     "text": [
      "\n",
      "Is this a correct match? (yes/no):  n\n"
     ]
    },
    {
     "name": "stdout",
     "output_type": "stream",
     "text": [
      "\u001b[KScreenplay: london rocks, Matched: London Rock, Score: 96   \r"
     ]
    },
    {
     "name": "stdin",
     "output_type": "stream",
     "text": [
      "\n",
      "Is this a correct match? (yes/no):  n\n"
     ]
    },
    {
     "name": "stdout",
     "output_type": "stream",
     "text": [
      "\u001b[KScreenplay: peasantville, Matched: Pleasantville, Score: 96   \r"
     ]
    },
    {
     "name": "stdin",
     "output_type": "stream",
     "text": [
      "\n",
      "Is this a correct match? (yes/no):  y\n"
     ]
    },
    {
     "name": "stdout",
     "output_type": "stream",
     "text": [
      "\u001b[KScreenplay: avengers worlds collide, Matched: As Worlds Collide, Score: 85   \r"
     ]
    },
    {
     "name": "stdin",
     "output_type": "stream",
     "text": [
      "\n",
      "Is this a correct match? (yes/no):  n\n"
     ]
    },
    {
     "name": "stdout",
     "output_type": "stream",
     "text": [
      "\u001b[KScreenplay: bounty jumpers, Matched: Body Jumper, Score: 80   \r"
     ]
    },
    {
     "name": "stdin",
     "output_type": "stream",
     "text": [
      "\n",
      "Is this a correct match? (yes/no):  n\n"
     ]
    },
    {
     "name": "stdout",
     "output_type": "stream",
     "text": [
      "\u001b[KScreenplay: sherlock ep3, Matched: Sherlock Jr., Score: 78   \r"
     ]
    },
    {
     "name": "stdin",
     "output_type": "stream",
     "text": [
      "\n",
      "Is this a correct match? (yes/no):  n\n"
     ]
    },
    {
     "name": "stdout",
     "output_type": "stream",
     "text": [
      "\u001b[KScreenplay: the dragons of krull, Matched: Dragons on the Hill, Score: 82   \r"
     ]
    },
    {
     "name": "stdin",
     "output_type": "stream",
     "text": [
      "\n",
      "Is this a correct match? (yes/no):  n\n"
     ]
    },
    {
     "name": "stdout",
     "output_type": "stream",
     "text": [
      "\u001b[KScreenplay: it came from the drive in, Matched: It Came from the Desert, Score: 79   \r"
     ]
    },
    {
     "name": "stdin",
     "output_type": "stream",
     "text": [
      "\n",
      "Is this a correct match? (yes/no):  n\n"
     ]
    },
    {
     "name": "stdout",
     "output_type": "stream",
     "text": [
      "\u001b[KScreenplay: the silver linings playbook, Matched: Silver Linings Playbook, Score: 92   \r"
     ]
    },
    {
     "name": "stdin",
     "output_type": "stream",
     "text": [
      "\n",
      "Is this a correct match? (yes/no):  y\n"
     ]
    },
    {
     "name": "stdout",
     "output_type": "stream",
     "text": [
      "\u001b[KScreenplay: fully automatic, Matched: Automatic, Score: 75   \r"
     ]
    },
    {
     "name": "stdin",
     "output_type": "stream",
     "text": [
      "\n",
      "Is this a correct match? (yes/no):  n\n"
     ]
    },
    {
     "name": "stdout",
     "output_type": "stream",
     "text": [
      "\u001b[KScreenplay: driving miss daisey, Matched: Driving Miss Daisy, Score: 97   \r"
     ]
    },
    {
     "name": "stdin",
     "output_type": "stream",
     "text": [
      "\n",
      "Is this a correct match? (yes/no):  y\n"
     ]
    },
    {
     "name": "stdout",
     "output_type": "stream",
     "text": [
      "\u001b[KScreenplay: burn after heading, Matched: Burn After Reading, Score: 94   \r"
     ]
    },
    {
     "name": "stdin",
     "output_type": "stream",
     "text": [
      "\n",
      "Is this a correct match? (yes/no):  y\n"
     ]
    },
    {
     "name": "stdout",
     "output_type": "stream",
     "text": [
      "\u001b[KScreenplay: hudsuckerproxy, Matched: The Hudsucker Proxy, Score: 85   \r"
     ]
    },
    {
     "name": "stdin",
     "output_type": "stream",
     "text": [
      "\n",
      "Is this a correct match? (yes/no):  y\n"
     ]
    },
    {
     "name": "stdout",
     "output_type": "stream",
     "text": [
      "\u001b[KScreenplay: danny graves man cave, Matched: Dancing on Graves, Score: 68   \r"
     ]
    },
    {
     "name": "stdin",
     "output_type": "stream",
     "text": [
      "\n",
      "Is this a correct match? (yes/no):  n\n"
     ]
    },
    {
     "name": "stdout",
     "output_type": "stream",
     "text": [
      "\u001b[KScreenplay: the nine lives of chloe king salvation, Matched: Saving the Lives of Children, Score: 73   \r"
     ]
    },
    {
     "name": "stdin",
     "output_type": "stream",
     "text": [
      "\n",
      "Is this a correct match? (yes/no):  n\n"
     ]
    },
    {
     "name": "stdout",
     "output_type": "stream",
     "text": [
      "\u001b[KScreenplay: alien engineers, Matched: Engineers, Score: 75   \r"
     ]
    },
    {
     "name": "stdin",
     "output_type": "stream",
     "text": [
      "\n",
      "Is this a correct match? (yes/no):  n\n"
     ]
    },
    {
     "name": "stdout",
     "output_type": "stream",
     "text": [
      "\u001b[KScreenplay: the amity ville asylum, Matched: The Amityville Asylum, Score: 74   \r"
     ]
    },
    {
     "name": "stdin",
     "output_type": "stream",
     "text": [
      "\n",
      "Is this a correct match? (yes/no):  y\n"
     ]
    },
    {
     "name": "stdout",
     "output_type": "stream",
     "text": [
      "\u001b[KScreenplay: martyr chronicle 2, Matched: Mutant Chronicles, Score: 74   \r"
     ]
    },
    {
     "name": "stdin",
     "output_type": "stream",
     "text": [
      "\n",
      "Is this a correct match? (yes/no):  n\n"
     ]
    },
    {
     "name": "stdout",
     "output_type": "stream",
     "text": [
      "\u001b[KScreenplay: an october wedding, Matched: Another Wedding?, Score: 85   \r"
     ]
    },
    {
     "name": "stdin",
     "output_type": "stream",
     "text": [
      "\n",
      "Is this a correct match? (yes/no):  n\n"
     ]
    },
    {
     "name": "stdout",
     "output_type": "stream",
     "text": [
      "\u001b[KScreenplay: killing charlie kaufman, Matched: Killing Christian, Score: 70   \r"
     ]
    },
    {
     "name": "stdin",
     "output_type": "stream",
     "text": [
      "\n",
      "Is this a correct match? (yes/no):  n\n"
     ]
    },
    {
     "name": "stdout",
     "output_type": "stream",
     "text": [
      "\u001b[KScreenplay: papermoon, Matched: Paperman, Score: 82   \r"
     ]
    },
    {
     "name": "stdin",
     "output_type": "stream",
     "text": [
      "\n",
      "Is this a correct match? (yes/no):  n\n"
     ]
    },
    {
     "name": "stdout",
     "output_type": "stream",
     "text": [
      "\u001b[KScreenplay: captain pillips, Matched: Captain Phillips, Score: 97   \r"
     ]
    },
    {
     "name": "stdin",
     "output_type": "stream",
     "text": [
      "\n",
      "Is this a correct match? (yes/no):  y\n"
     ]
    },
    {
     "name": "stdout",
     "output_type": "stream",
     "text": [
      "\u001b[KScreenplay: back to the future 2&3, Matched: Back to the Future, Score: 90   \r"
     ]
    },
    {
     "name": "stdin",
     "output_type": "stream",
     "text": [
      "\n",
      "Is this a correct match? (yes/no):  n\n"
     ]
    },
    {
     "name": "stdout",
     "output_type": "stream",
     "text": [
      "\u001b[KScreenplay: to kill a mocking bird, Matched: To Kill a Mockingbird, Score: 79   \r"
     ]
    },
    {
     "name": "stdin",
     "output_type": "stream",
     "text": [
      "\n",
      "Is this a correct match? (yes/no):  y\n"
     ]
    },
    {
     "name": "stdout",
     "output_type": "stream",
     "text": [
      "\u001b[KScreenplay: youre dead meat piplowski, Matched: I Eat Your Skin, Score: 65   \r"
     ]
    },
    {
     "name": "stdin",
     "output_type": "stream",
     "text": [
      "\n",
      "Is this a correct match? (yes/no):  n\n"
     ]
    },
    {
     "name": "stdout",
     "output_type": "stream",
     "text": [
      "\u001b[KScreenplay: a wizard of earthsea, Matched: Hearts of War, Score: 73   \r"
     ]
    },
    {
     "name": "stdin",
     "output_type": "stream",
     "text": [
      "\n",
      "Is this a correct match? (yes/no):  n\n"
     ]
    },
    {
     "name": "stdout",
     "output_type": "stream",
     "text": [
      "\u001b[KScreenplay: big trouble in little china 2, Matched: Big Trouble in Little China, Score: 96   \r"
     ]
    },
    {
     "name": "stdin",
     "output_type": "stream",
     "text": [
      "\n",
      "Is this a correct match? (yes/no):  n\n"
     ]
    },
    {
     "name": "stdout",
     "output_type": "stream",
     "text": [
      "\u001b[KScreenplay: hulk john turman, Matched: Johnny Tremain, Score: 67   \r"
     ]
    },
    {
     "name": "stdin",
     "output_type": "stream",
     "text": [
      "\n",
      "Is this a correct match? (yes/no):  n\n"
     ]
    },
    {
     "name": "stdout",
     "output_type": "stream",
     "text": [
      "\u001b[KScreenplay: tom raider, Matched: Womb Raider, Score: 86   \r"
     ]
    },
    {
     "name": "stdin",
     "output_type": "stream",
     "text": [
      "\n",
      "Is this a correct match? (yes/no):  n\n"
     ]
    },
    {
     "name": "stdout",
     "output_type": "stream",
     "text": [
      "\u001b[KScreenplay: bizzaro, Matched: Blizzard, Score: 80   \r"
     ]
    },
    {
     "name": "stdin",
     "output_type": "stream",
     "text": [
      "\n",
      "Is this a correct match? (yes/no):  n\n"
     ]
    },
    {
     "name": "stdout",
     "output_type": "stream",
     "text": [
      "\u001b[KScreenplay: the keys to the street, Matched: The Street Descends to the Sea, Score: 77   \r"
     ]
    },
    {
     "name": "stdin",
     "output_type": "stream",
     "text": [
      "\n",
      "Is this a correct match? (yes/no):  n\n"
     ]
    },
    {
     "name": "stdout",
     "output_type": "stream",
     "text": [
      "\u001b[KScreenplay: miss congeniality ii, Matched: Miss Congeniality, Score: 92   \r"
     ]
    },
    {
     "name": "stdin",
     "output_type": "stream",
     "text": [
      "\n",
      "Is this a correct match? (yes/no):  n\n"
     ]
    },
    {
     "name": "stdout",
     "output_type": "stream",
     "text": [
      "\u001b[KScreenplay: latchkeepers annotated, Matched: Another Watcher, Score: 65   \r"
     ]
    },
    {
     "name": "stdin",
     "output_type": "stream",
     "text": [
      "\n",
      "Is this a correct match? (yes/no):  n\n"
     ]
    },
    {
     "name": "stdout",
     "output_type": "stream",
     "text": [
      "\u001b[KScreenplay: all the pretty dead girls, Matched: All The Pretty Girls, Score: 89   \r"
     ]
    },
    {
     "name": "stdin",
     "output_type": "stream",
     "text": [
      "\n",
      "Is this a correct match? (yes/no):  n\n"
     ]
    },
    {
     "name": "stdout",
     "output_type": "stream",
     "text": [
      "\u001b[KScreenplay: war of the worlds (1951), Matched: War of the Worlds, Score: 87   \r"
     ]
    },
    {
     "ename": "KeyboardInterrupt",
     "evalue": "Interrupted by user",
     "output_type": "error",
     "traceback": [
      "\u001b[0;31m---------------------------------------------------------------------------\u001b[0m",
      "\u001b[0;31mKeyboardInterrupt\u001b[0m                         Traceback (most recent call last)",
      "Cell \u001b[0;32mIn[54], line 15\u001b[0m\n\u001b[1;32m     12\u001b[0m sys\u001b[38;5;241m.\u001b[39mstdout\u001b[38;5;241m.\u001b[39mflush()\n\u001b[1;32m     14\u001b[0m \u001b[38;5;66;03m# Capture user input\u001b[39;00m\n\u001b[0;32m---> 15\u001b[0m user_input \u001b[38;5;241m=\u001b[39m \u001b[38;5;28;43minput\u001b[39;49m\u001b[43m(\u001b[49m\u001b[38;5;124;43m\"\u001b[39;49m\u001b[38;5;130;43;01m\\n\u001b[39;49;00m\u001b[38;5;124;43mIs this a correct match? (yes/no): \u001b[39;49m\u001b[38;5;124;43m\"\u001b[39;49m\u001b[43m)\u001b[49m\n\u001b[1;32m     16\u001b[0m is_match\u001b[38;5;241m.\u001b[39mappend(user_input)\n\u001b[1;32m     18\u001b[0m \u001b[38;5;66;03m# Optional: Delay for demonstration purposes, remove this in the real script\u001b[39;00m\n",
      "File \u001b[0;32m~/opt/anaconda3/envs/jupyterlab-env/lib/python3.9/site-packages/ipykernel/kernelbase.py:1282\u001b[0m, in \u001b[0;36mKernel.raw_input\u001b[0;34m(self, prompt)\u001b[0m\n\u001b[1;32m   1280\u001b[0m     msg \u001b[38;5;241m=\u001b[39m \u001b[38;5;124m\"\u001b[39m\u001b[38;5;124mraw_input was called, but this frontend does not support input requests.\u001b[39m\u001b[38;5;124m\"\u001b[39m\n\u001b[1;32m   1281\u001b[0m     \u001b[38;5;28;01mraise\u001b[39;00m StdinNotImplementedError(msg)\n\u001b[0;32m-> 1282\u001b[0m \u001b[38;5;28;01mreturn\u001b[39;00m \u001b[38;5;28;43mself\u001b[39;49m\u001b[38;5;241;43m.\u001b[39;49m\u001b[43m_input_request\u001b[49m\u001b[43m(\u001b[49m\n\u001b[1;32m   1283\u001b[0m \u001b[43m    \u001b[49m\u001b[38;5;28;43mstr\u001b[39;49m\u001b[43m(\u001b[49m\u001b[43mprompt\u001b[49m\u001b[43m)\u001b[49m\u001b[43m,\u001b[49m\n\u001b[1;32m   1284\u001b[0m \u001b[43m    \u001b[49m\u001b[38;5;28;43mself\u001b[39;49m\u001b[38;5;241;43m.\u001b[39;49m\u001b[43m_parent_ident\u001b[49m\u001b[43m[\u001b[49m\u001b[38;5;124;43m\"\u001b[39;49m\u001b[38;5;124;43mshell\u001b[39;49m\u001b[38;5;124;43m\"\u001b[39;49m\u001b[43m]\u001b[49m\u001b[43m,\u001b[49m\n\u001b[1;32m   1285\u001b[0m \u001b[43m    \u001b[49m\u001b[38;5;28;43mself\u001b[39;49m\u001b[38;5;241;43m.\u001b[39;49m\u001b[43mget_parent\u001b[49m\u001b[43m(\u001b[49m\u001b[38;5;124;43m\"\u001b[39;49m\u001b[38;5;124;43mshell\u001b[39;49m\u001b[38;5;124;43m\"\u001b[39;49m\u001b[43m)\u001b[49m\u001b[43m,\u001b[49m\n\u001b[1;32m   1286\u001b[0m \u001b[43m    \u001b[49m\u001b[43mpassword\u001b[49m\u001b[38;5;241;43m=\u001b[39;49m\u001b[38;5;28;43;01mFalse\u001b[39;49;00m\u001b[43m,\u001b[49m\n\u001b[1;32m   1287\u001b[0m \u001b[43m\u001b[49m\u001b[43m)\u001b[49m\n",
      "File \u001b[0;32m~/opt/anaconda3/envs/jupyterlab-env/lib/python3.9/site-packages/ipykernel/kernelbase.py:1325\u001b[0m, in \u001b[0;36mKernel._input_request\u001b[0;34m(self, prompt, ident, parent, password)\u001b[0m\n\u001b[1;32m   1322\u001b[0m \u001b[38;5;28;01mexcept\u001b[39;00m \u001b[38;5;167;01mKeyboardInterrupt\u001b[39;00m:\n\u001b[1;32m   1323\u001b[0m     \u001b[38;5;66;03m# re-raise KeyboardInterrupt, to truncate traceback\u001b[39;00m\n\u001b[1;32m   1324\u001b[0m     msg \u001b[38;5;241m=\u001b[39m \u001b[38;5;124m\"\u001b[39m\u001b[38;5;124mInterrupted by user\u001b[39m\u001b[38;5;124m\"\u001b[39m\n\u001b[0;32m-> 1325\u001b[0m     \u001b[38;5;28;01mraise\u001b[39;00m \u001b[38;5;167;01mKeyboardInterrupt\u001b[39;00m(msg) \u001b[38;5;28;01mfrom\u001b[39;00m \u001b[38;5;28;01mNone\u001b[39;00m\n\u001b[1;32m   1326\u001b[0m \u001b[38;5;28;01mexcept\u001b[39;00m \u001b[38;5;167;01mException\u001b[39;00m:\n\u001b[1;32m   1327\u001b[0m     \u001b[38;5;28mself\u001b[39m\u001b[38;5;241m.\u001b[39mlog\u001b[38;5;241m.\u001b[39mwarning(\u001b[38;5;124m\"\u001b[39m\u001b[38;5;124mInvalid Message:\u001b[39m\u001b[38;5;124m\"\u001b[39m, exc_info\u001b[38;5;241m=\u001b[39m\u001b[38;5;28;01mTrue\u001b[39;00m)\n",
      "\u001b[0;31mKeyboardInterrupt\u001b[0m: Interrupted by user"
     ]
    }
   ],
   "source": [
    "import sys\n",
    "import time  # Optional: For adding a delay, which can be useful for demonstration purposes\n",
    "\n",
    "is_match = []\n",
    "\n",
    "for d in matched_results:\n",
    "    # Construct the message\n",
    "    message = f\"Screenplay: {d['original_title']}, Matched: {d['best_match_title']}, Score: {d['similarity_score']}   \"\n",
    "    \n",
    "    # Clear the line and print the message\n",
    "    sys.stdout.write('\\033[K' + message + '\\r')\n",
    "    sys.stdout.flush()\n",
    "    \n",
    "    # Capture user input\n",
    "    user_input = input(\"\\nIs this a correct match? (yes/no): \")\n",
    "    is_match.append(user_input)\n",
    "    \n",
    "    # Optional: Delay for demonstration purposes, remove this in the real script\n",
    "    time.sleep(1)\n",
    "\n",
    "# Optional: Clear the line after the loop is done\n",
    "sys.stdout.write(\"\\033[K\\r\")\n",
    "sys.stdout.flush()\n",
    "\n",
    "print(\"\\nReview completed.\")"
   ]
  },
  {
   "cell_type": "markdown",
   "id": "a4b2d1bc-64f3-4010-b250-5fe1bfb509b8",
   "metadata": {
    "scrolled": true
   },
   "source": [
    "Save fuzzy match preds and results:"
   ]
  },
  {
   "cell_type": "code",
   "execution_count": null,
   "id": "65b3bf33-42d1-421c-a051-9a9a265994b3",
   "metadata": {},
   "outputs": [],
   "source": [
    "# Saving dictionary as JSON\n",
    "with open(\"Data/Fuzzy Title Matches.json\", 'w') as json_file:\n",
    "    json.dump(matched_results, json_file, indent=4)"
   ]
  },
  {
   "cell_type": "code",
   "execution_count": null,
   "id": "c20d5aa6-3f28-44c8-8b7c-42d2605485a8",
   "metadata": {},
   "outputs": [],
   "source": []
  }
 ],
 "metadata": {
  "kernelspec": {
   "display_name": "Python 3 (ipykernel)",
   "language": "python",
   "name": "python3"
  },
  "language_info": {
   "codemirror_mode": {
    "name": "ipython",
    "version": 3
   },
   "file_extension": ".py",
   "mimetype": "text/x-python",
   "name": "python",
   "nbconvert_exporter": "python",
   "pygments_lexer": "ipython3",
   "version": "3.12.7"
  }
 },
 "nbformat": 4,
 "nbformat_minor": 5
}
