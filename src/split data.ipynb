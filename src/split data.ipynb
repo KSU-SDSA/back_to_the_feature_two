{
 "cells": [
  {
   "cell_type": "markdown",
   "id": "0acbed37-22e2-4109-a810-f5ce1372de0c",
   "metadata": {},
   "source": [
    "Performs train / test split on:   \n",
    "1. The dataset exported from the Join Datasets notebook\n",
    "2. The screenplays"
   ]
  },
  {
   "cell_type": "code",
   "execution_count": 1,
   "id": "f00a7e9b-9de8-4706-a8a3-22bbe64a5c9f",
   "metadata": {},
   "outputs": [
    {
     "name": "stdout",
     "output_type": "stream",
     "text": [
      "Loaded 98 training screenplays\n",
      "Loaded 11 test screenplays\n"
     ]
    }
   ],
   "source": [
    "# screenplays\n",
    "import os\n",
    "\n",
    "def load_screenplays_from_folder(folder_path):\n",
    "    screenplays = []\n",
    "    filenames = []\n",
    "    for filename in os.listdir(folder_path):\n",
    "        if filename.endswith(\".txt\"):\n",
    "            file_path = os.path.join(folder_path, filename)\n",
    "            with open(file_path, \"r\", encoding=\"utf-8\") as f:\n",
    "                text = f.read()\n",
    "                screenplays.append(text)\n",
    "                filenames.append(filename)\n",
    "    return screenplays, filenames\n",
    "\n",
    "# Define paths\n",
    "train_path = os.path.join(\"..\", \"data\", \"screenplays\", \"train\")\n",
    "test_path = os.path.join(\"..\", \"data\", \"screenplays\", \"test\")\n",
    "\n",
    "# Load data\n",
    "X_train, train_filenames = load_screenplays_from_folder(train_path)\n",
    "X_test, test_filenames = load_screenplays_from_folder(test_path)\n",
    "\n",
    "# Quick checks\n",
    "print(f\"Loaded {len(X_train)} training screenplays\")\n",
    "print(f\"Loaded {len(X_test)} test screenplays\")\n"
   ]
  },
  {
   "cell_type": "code",
   "execution_count": 19,
   "id": "8222ae25-8e84-49fd-8c1f-e8304c70f057",
   "metadata": {},
   "outputs": [
    {
     "name": "stdout",
     "output_type": "stream",
     "text": [
      "Train size: 4230\n",
      "Validation size: 223\n",
      "Test size: 235\n"
     ]
    }
   ],
   "source": [
    "# joined dataset\n",
    "import pandas as pd\n",
    "from sklearn.model_selection import train_test_split\n",
    "import os\n",
    "\n",
    "# Load data\n",
    "data_path = os.path.join(\"..\", \"data\", \"Cache\", \"poster3_data.csv\")\n",
    "df = pd.read_csv(data_path)\n",
    "\n",
    "# First split: 5% test set (stratified on budget_level)\n",
    "df_train_val, df_test = train_test_split(\n",
    "    df,\n",
    "    test_size=0.05,\n",
    "    stratify=df[\"from_budget_category\"],\n",
    "    random_state=42\n",
    ")\n",
    "\n",
    "# Second split: from the remaining 95%, take 5% for validation\n",
    "df_train, df_val = train_test_split(\n",
    "    df_train_val,\n",
    "    test_size=0.05,\n",
    "    stratify=df_train_val[\"from_budget_category\"],\n",
    "    random_state=42\n",
    ")\n",
    "\n",
    "# Save the splits\n",
    "cache_dir = os.path.join(\"..\", \"data\", \"Cache\")\n",
    "df_train.to_csv(os.path.join(cache_dir, \"poster3_train.csv\"), index=False)\n",
    "df_val.to_csv(os.path.join(cache_dir, \"poster3_val.csv\"), index=False)\n",
    "df_test.to_csv(os.path.join(cache_dir, \"poster3_test.csv\"), index=False)\n",
    "\n",
    "# Summary\n",
    "print(f\"Train size: {len(df_train)}\")\n",
    "print(f\"Validation size: {len(df_val)}\")\n",
    "print(f\"Test size: {len(df_test)}\")"
   ]
  },
  {
   "cell_type": "code",
   "execution_count": 14,
   "id": "7ca749bb-3294-4fe5-bd8e-f4e352bc7446",
   "metadata": {},
   "outputs": [
    {
     "name": "stdout",
     "output_type": "stream",
     "text": [
      "Original train size: 4230\n",
      "Filtered train size: 4230\n"
     ]
    }
   ],
   "source": [
    "import re\n",
    "\n",
    "# Clean and normalize filenames to extract base titles\n",
    "def clean_title(filename):\n",
    "    title = re.sub(r\"\\.txt$\", \"\", filename)       # Remove extension\n",
    "    title = re.sub(r\"[^a-zA-Z0-9 ]\", \"\", title)   # Remove punctuation\n",
    "    return title.strip().lower()\n",
    "\n",
    "# Build a set of cleaned test screenplay titles\n",
    "test_titles_screenplay = set(clean_title(name) for name in test_filenames)\n",
    "\n",
    "# Clean titles from df_train and remove any that match test screenplay titles\n",
    "def is_conflict(row):\n",
    "    if \"title\" in row:\n",
    "        title = str(row[\"title\"])\n",
    "    elif \"original_title\" in row:\n",
    "        title = str(row[\"original_title\"])\n",
    "    else:\n",
    "        return False\n",
    "    cleaned = re.sub(r\"[^a-zA-Z0-9 ]\", \"\", title).strip().lower()\n",
    "    return cleaned in test_titles_screenplay\n",
    "\n",
    "# Filter out overlapping movies\n",
    "df_train_filtered = df_train[~df_train.apply(is_conflict, axis=1)].copy()\n",
    "\n",
    "print(f\"Original train size: {len(df_train)}\")\n",
    "print(f\"Filtered train size: {len(df_train_filtered)}\")\n"
   ]
  },
  {
   "cell_type": "code",
   "execution_count": 4,
   "id": "f99ad8e0-9a81-40d5-9438-f419b5929a8c",
   "metadata": {},
   "outputs": [
    {
     "data": {
      "text/plain": [
       "Index(['from_label', 'from_tconst', 'from_title', 'from_year',\n",
       "       'from_runtimeMinutes', 'from_averageRating', 'from_numVotes',\n",
       "       'from_budget', 'from_revenue', 'relationship', 'to_label', 'to_name',\n",
       "       'to_id', 'to_gender', 'to_popularity', 'to_adult'],\n",
       "      dtype='object')"
      ]
     },
     "execution_count": 4,
     "metadata": {},
     "output_type": "execute_result"
    }
   ],
   "source": [
    "import pandas as pd\n",
    "\n",
    "df_long = pd.read_csv(\"../data/cache/graph_data.csv\")\n",
    "df_long.columns"
   ]
  },
  {
   "cell_type": "markdown",
   "id": "85d4a03c-70ca-4f82-aadc-8c0f1e593302",
   "metadata": {},
   "source": [
    "### MAKE LONG AGAIN"
   ]
  },
  {
   "cell_type": "code",
   "execution_count": 21,
   "id": "42b018ff-c403-4b1c-9de5-8ebccc158b48",
   "metadata": {},
   "outputs": [
    {
     "name": "stdout",
     "output_type": "stream",
     "text": [
      "✅ Exported graph_poster3_train.csv with 21397 rows.\n"
     ]
    }
   ],
   "source": [
    "import pandas as pd\n",
    "\n",
    "df = df_train_val.copy()\n",
    "flat_rows = []\n",
    "n_cast = 20  # top N actors\n",
    "\n",
    "for _, row in df.iterrows():\n",
    "    from_movie = {\n",
    "        'from_label': 'Movie',\n",
    "        'from_tconst': row['from_tconst'],\n",
    "        'from_title': row['from_title'],\n",
    "        'from_year': row['from_year'],\n",
    "        'from_runtimeMinutes': row['from_runtimeMinutes'],\n",
    "        'from_averageRating': row['from_averageRating'],\n",
    "        'from_numVotes': row['from_numVotes'],\n",
    "        'from_budget': row['from_budget'],\n",
    "        'from_revenue': row['from_revenue'],\n",
    "        'from_budget_category': row['from_budget_category'],\n",
    "        'profit': row['profit'],\n",
    "        'profit_percent_gain': row['profit_percent_gain']\n",
    "    }\n",
    "\n",
    "\n",
    "    # === Subgenres ===\n",
    "    subgenres = row['subgenres']\n",
    "    if isinstance(subgenres, str):\n",
    "        subgenres = subgenres.split(', ')\n",
    "    for sub in subgenres:\n",
    "        flat_rows.append({\n",
    "            **from_movie,\n",
    "            'relationship': 'HAS_SUBGENRE',\n",
    "            'to_label': 'Subgenre',\n",
    "            'to_name': sub.strip(),\n",
    "            'to_id': '', 'to_gender': '', 'to_popularity': ''\n",
    "        })\n",
    "\n",
    "    # === Genres (optional)\n",
    "    genres = row['genres']\n",
    "    if isinstance(genres, str):\n",
    "        genres = genres.split(', ')\n",
    "    for genre in genres:\n",
    "        flat_rows.append({\n",
    "            **from_movie,\n",
    "            'relationship': 'IN_GENRE',\n",
    "            'to_label': 'Genre',\n",
    "            'to_name': genre.strip(),\n",
    "            'to_id': '', 'to_gender': '', 'to_popularity': ''\n",
    "        })\n",
    "\n",
    "    # === Production Companies ===\n",
    "    if 'production_companies' in row and pd.notna(row['production_companies']):\n",
    "        try:\n",
    "            companies = eval(row['production_companies']) if isinstance(row['production_companies'], str) else row['production_companies']\n",
    "            for company in companies:\n",
    "                flat_rows.append({\n",
    "                    **from_movie,\n",
    "                    'relationship': 'PRODUCED_BY',\n",
    "                    'to_label': 'ProductionCompany',\n",
    "                    'to_name': company.strip(),\n",
    "                    'to_id': '', 'to_gender': '', 'to_popularity': ''\n",
    "                })\n",
    "        except:\n",
    "            pass\n",
    "\n",
    "    # === Cast ===\n",
    "    if 'cast' in row and pd.notna(row['cast']):\n",
    "        try:\n",
    "            cast = eval(row['cast']) if isinstance(row['cast'], str) else row['cast']\n",
    "            for actor in cast:\n",
    "                if int(actor.get('order', 999)) <= n_cast:\n",
    "                    flat_rows.append({\n",
    "                        **from_movie,\n",
    "                        'relationship': 'ACTED_IN',\n",
    "                        'to_label': 'Actor',\n",
    "                        'to_name': actor.get('name'),\n",
    "                        'to_id': actor.get('id'),\n",
    "                        'to_gender': actor.get('gender'),\n",
    "                        'to_popularity': actor.get('popularity')\n",
    "                    })\n",
    "        except:\n",
    "            pass\n",
    "\n",
    "    # === Crew ===\n",
    "    if 'crew' in row and pd.notna(row['crew']):\n",
    "        try:\n",
    "            crew = eval(row['crew']) if isinstance(row['crew'], str) else row['crew']\n",
    "            job_map = {\n",
    "                'Director': 'DIRECTED',\n",
    "                'Producer': 'PRODUCED',\n",
    "                'Director of Photography': 'PHOTOGRAPHED'\n",
    "            }\n",
    "            for member in crew:\n",
    "                job = member.get('job')\n",
    "                if job in job_map:\n",
    "                    flat_rows.append({\n",
    "                        **from_movie,\n",
    "                        'relationship': job_map[job],\n",
    "                        'to_label': job,\n",
    "                        'to_name': member.get('name'),\n",
    "                        'to_id': member.get('id'),\n",
    "                        'to_gender': member.get('gender'),\n",
    "                        'to_popularity': member.get('popularity')\n",
    "                    })\n",
    "        except:\n",
    "            pass\n",
    "\n",
    "# === Create Long Format DataFrame ===\n",
    "df_long = pd.DataFrame(flat_rows)\n",
    "df_long = df_long.fillna('')\n",
    "\n",
    "# Save\n",
    "df_long.to_csv(\"../data/Cache/graph_poster3_train.csv\", index=False)\n",
    "\n",
    "print(\"✅ Exported graph_poster3_train.csv with\", len(df_long), \"rows.\")\n"
   ]
  },
  {
   "cell_type": "code",
   "execution_count": 15,
   "id": "73a63baf-3c63-4f64-999d-7804f80cd7cd",
   "metadata": {},
   "outputs": [
    {
     "name": "stdout",
     "output_type": "stream",
     "text": [
      "to_label\n",
      "Genre    4230\n",
      "Name: count, dtype: int64\n"
     ]
    }
   ],
   "source": [
    "# Unique labels on the \"to\" side\n",
    "print(df_train['to_label'].value_counts())\n"
   ]
  },
  {
   "cell_type": "code",
   "execution_count": null,
   "id": "1b19a85d-8591-4576-ba97-ebe678de5220",
   "metadata": {},
   "outputs": [],
   "source": []
  }
 ],
 "metadata": {
  "kernelspec": {
   "display_name": "Python 3 (ipykernel)",
   "language": "python",
   "name": "python3"
  },
  "language_info": {
   "codemirror_mode": {
    "name": "ipython",
    "version": 3
   },
   "file_extension": ".py",
   "mimetype": "text/x-python",
   "name": "python",
   "nbconvert_exporter": "python",
   "pygments_lexer": "ipython3",
   "version": "3.12.7"
  }
 },
 "nbformat": 4,
 "nbformat_minor": 5
}
